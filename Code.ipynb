{
 "cells": [
  {
   "cell_type": "code",
   "execution_count": null,
   "id": "4f490f49-bd66-4cc2-a255-52bb1c369d5b",
   "metadata": {},
   "outputs": [],
   "source": [
    "from sklearn.datasets import load_svmlight_file\n",
    "from sklearn.neighbors import NearestNeighbors\n",
    "import numpy as np\n",
    "import pandas as pd\n",
    "\n",
    "libsvm_file1311 = 'Ratings_final_output.libsvm'\n",
    "sparse_matrix1311, _ = load_svmlight_file(libsvm_file1311)\n",
    "\n",
    "knn1311 = NearestNeighbors(metric='cosine', algorithm='brute')\n",
    "knn1311.fit(sparse_matrix1311)\n",
    "\n",
    "book_metadata = {i: f\"Book {i}\" for i in range(sparse_matrix1311.shape[1])}\n",
    "def recommend_books_for_all_users1311(k=10, top_n=5):\n",
    "    \"\"\"Recommend top N books for all users and output results to a CSV.\"\"\"\n",
    "    all_recommendations = []\n",
    "    \n",
    "    for user_id1311 in range(sparse_matrix1311.shape[0]):\n",
    "        # Step 1: Find the K most similar users\n",
    "        distances1311, indices1311 = knn1311.kneighbors(sparse_matrix1311[user_id1311], n_neighbors=k + 1)\n",
    "        similar_users1311 = indices1311.flatten()[1:]\n",
    "        similarity_scores1311 = 1 - distances1311.flatten()[1:]       \n",
    "        # Step 2: Identify books read by similar users\n",
    "        similar_users_matrix1311 = sparse_matrix1311[similar_users1311].toarray()        \n",
    "        # Step 3: Calculate weighted average ratings\n",
    "        weighted_sum1311 = np.dot(similarity_scores1311, similar_users_matrix1311)\n",
    "        similarity_sum1311 = np.sum(similarity_scores1311[:, None] * (similar_users_matrix1311 > 0), axis=0)\n",
    "        weighted_avg_ratings1311 = np.divide(weighted_sum1311, similarity_sum1311,\n",
    "                                            out=np.zeros_like(weighted_sum1311),\n",
    "                                            where=similarity_sum1311 > 0)\n",
    "\n",
    "        user_rated_books1311 = sparse_matrix1311[user_id1311].toarray().flatten() > 0\n",
    "        weighted_avg_ratings1311[user_rated_books1311] = 0\n",
    "        \n",
    "        # Step 4: Get top N recommended books\n",
    "        recommended_books1311 = np.argsort(-weighted_avg_ratings1311)[:top_n]\n",
    "\n",
    "        for book_id in recommended_books1311:\n",
    "            all_recommendations.append({\n",
    "                \"User_ID\": user_id1311,\n",
    "                \"Book_ID\": book_id,\n",
    "                \"Book_Title\": book_metadata.get(book_id, f\"Book {book_id}\"),\n",
    "                \"Recommendation_Score\": weighted_avg_ratings1311[book_id]\n",
    "            })\n",
    "\n",
    "    recommendations_df = pd.DataFrame(all_recommendations)\n",
    "    recommendations_df.to_csv('all_user_recommendations.csv', index=False)\n",
    "    print(f\"Recommendations for all users saved to 'all_user_recommendations.csv'.\")\n",
    "\n",
    "# Generate recommendations for all users\n",
    "recommend_books_for_all_users1311(k=10, top_n=5)"
   ]
  },
  {
   "cell_type": "code",
   "execution_count": null,
   "id": "80785ba2-4bd0-40fa-a933-9e1d017aea69",
   "metadata": {},
   "outputs": [],
   "source": []
  }
 ],
 "metadata": {
  "kernelspec": {
   "display_name": "Python 3 (ipykernel)",
   "language": "python",
   "name": "python3"
  },
  "language_info": {
   "codemirror_mode": {
    "name": "ipython",
    "version": 3
   },
   "file_extension": ".py",
   "mimetype": "text/x-python",
   "name": "python",
   "nbconvert_exporter": "python",
   "pygments_lexer": "ipython3",
   "version": "3.12.7"
  }
 },
 "nbformat": 4,
 "nbformat_minor": 5
}
